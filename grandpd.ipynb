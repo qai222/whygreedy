{
 "cells": [
  {
   "cell_type": "code",
   "execution_count": 1,
   "outputs": [],
   "source": [
    "import gurobipy as gp\n",
    "from whygreedy import Compound\n",
    "from pymatgen.analysis.phase_diagram import Composition, PDEntry, GrandPotentialPhaseDiagram, GrandPotPDEntry\n",
    "from whygreedy.schema import gen_random_data\n",
    "\n",
    "def find_lp_open(reactant: Compound, products: list[Compound], open_elements_data:dict[str, float]):\n",
    "    if len(products) == 0:\n",
    "        return [], - reactant.formation_energy_per_atom\n",
    "\n",
    "    elements_in_products = []\n",
    "    for product in products:\n",
    "        elements_in_products += product.elements\n",
    "    elements_in_products = set(elements_in_products)\n",
    "    elements_in_constraints = sorted(set(reactant.elements).intersection(elements_in_products))\n",
    "    open_elements = elements_in_products.difference(set(reactant.elements))\n",
    "\n",
    "    # init gurobi model, suppress output\n",
    "    with gp.Env(empty=True) as env:\n",
    "        env.setParam('OutputFlag', 0)\n",
    "        env.setParam('LogToConsole', 0)\n",
    "        env.start()\n",
    "        with gp.Model(env=env) as m:\n",
    "\n",
    "            # add variables\n",
    "            x = []\n",
    "            for iproduct, product in enumerate(products):\n",
    "                x_i = m.addVar(name=str(iproduct))\n",
    "                x.append(x_i)\n",
    "\n",
    "            # add stoi constraints\n",
    "            c = []\n",
    "            for e in elements_in_constraints:\n",
    "                element_sum = 0\n",
    "                for i, x_i in enumerate(x):\n",
    "                    try:\n",
    "                        composition = products[i].normalized_formula[e]\n",
    "                    except KeyError:\n",
    "                        continue\n",
    "                    element_sum += composition * x_i\n",
    "                c_e = m.addConstr(element_sum == reactant.normalized_formula[e], name=e)\n",
    "                c.append(c_e)\n",
    "            # add non-negative constraints\n",
    "            for i, x_i in enumerate(x):\n",
    "                c_e = m.addConstr(x_i >= 0, name=\"x_{}\".format(i))\n",
    "                c.append(c_e)\n",
    "\n",
    "            # objective function\n",
    "            objective = 0\n",
    "            for x_i, product in zip(x, products):\n",
    "                openterm = 0\n",
    "                for openele in open_elements:\n",
    "                    openterm += product.normalized_formula[openele] * open_elements_data[openele]\n",
    "                objective += x_i * (product.formation_energy_per_atom - openterm)\n",
    "\n",
    "            m.setObjective(objective, gp.GRB.MINIMIZE)\n",
    "            m.optimize()\n",
    "            return [v.x for v in m.getVars()], m.objVal - reactant.formation_energy_per_atom\n",
    "\n",
    "def gpd_decomp(reactant:Compound, oxides:list[Compound], open_elements_data):\n",
    "    entries = [PDEntry(Composition(e.normalized_formula), e.formation_energy_per_atom) for e in [reactant,] + oxides]\n",
    "    gpd = GrandPotentialPhaseDiagram(entries, open_elements_data)\n",
    "    sol = gpd.get_decomposition(Composition(reactant.normalized_formula))\n",
    "    delta = - reactant.formation_energy_per_atom\n",
    "    for pd, x_i in sol.items():\n",
    "        pd: GrandPotPDEntry\n",
    "        delta += pd.energy_per_atom * x_i\n",
    "        delta -= open_elements_data[\"O\"] * x_i * pd.composition[\"O\"]\n",
    "        # real x_i for compositions has a factor of 1/pd.composition.num_atoms\n",
    "    return delta"
   ],
   "metadata": {
    "collapsed": false,
    "pycharm": {
     "name": "#%%\n"
    }
   }
  },
  {
   "cell_type": "code",
   "execution_count": 2,
   "outputs": [
    {
     "name": "stderr",
     "output_type": "stream",
     "text": [
      "100%|██████████| 1000/1000 [00:26<00:00, 37.98it/s]\n"
     ]
    }
   ],
   "source": [
    "import random\n",
    "from tqdm import tqdm\n",
    "for seed in tqdm(range(1000)):\n",
    "    random.seed(seed)\n",
    "    open_data = {\"O\": random.randint(-100, 0)}\n",
    "    reactant, oxides = gen_random_data([\"C\", \"Si\", \"Ge\", \"Sn\"], 5, seed)\n",
    "    delta_pmg = gpd_decomp(reactant, oxides, open_data)\n",
    "    _, delta_gb = find_lp_open(reactant, oxides, open_data)\n",
    "    assert abs(delta_gb - delta_pmg) < 1e-6"
   ],
   "metadata": {
    "collapsed": false,
    "pycharm": {
     "name": "#%%\n"
    }
   }
  },
  {
   "cell_type": "code",
   "execution_count": 3,
   "outputs": [
    {
     "name": "stdout",
     "output_type": "stream",
     "text": [
      "15.9 ms ± 230 µs per loop (mean ± std. dev. of 7 runs, 100 loops each)\n"
     ]
    }
   ],
   "source": [
    "%timeit delta = gpd_decomp(reactant, oxides, open_data)"
   ],
   "metadata": {
    "collapsed": false,
    "pycharm": {
     "name": "#%%\n"
    }
   }
  },
  {
   "cell_type": "code",
   "execution_count": 4,
   "outputs": [
    {
     "name": "stdout",
     "output_type": "stream",
     "text": [
      "1.68 ms ± 64.9 µs per loop (mean ± std. dev. of 7 runs, 1,000 loops each)\n"
     ]
    }
   ],
   "source": [
    "%timeit _, delta = find_lp_open(reactant, oxides, open_data)"
   ],
   "metadata": {
    "collapsed": false,
    "pycharm": {
     "name": "#%%\n"
    }
   }
  }
 ],
 "metadata": {
  "kernelspec": {
   "display_name": "Python 3",
   "language": "python",
   "name": "python3"
  },
  "language_info": {
   "codemirror_mode": {
    "name": "ipython",
    "version": 2
   },
   "file_extension": ".py",
   "mimetype": "text/x-python",
   "name": "python",
   "nbconvert_exporter": "python",
   "pygments_lexer": "ipython2",
   "version": "2.7.6"
  }
 },
 "nbformat": 4,
 "nbformat_minor": 0
}