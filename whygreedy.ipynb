{
 "cells": [
  {
   "cell_type": "code",
   "execution_count": 1,
   "metadata": {
    "collapsed": true
   },
   "outputs": [],
   "source": [
    "# load modules and data\n",
    "import matplotlib.pyplot as plt\n",
    "import seaborn as sns\n",
    "import numpy as np\n",
    "import inspect\n",
    "from whygreedy import *\n",
    "from whygreedy.algo import find_greedy_first_choices\n",
    "\n",
    "# set up plotting env\n",
    "sns.set_theme(style=\"whitegrid\", palette=\"pastel\")\n",
    "plt.rcParams.update({'font.size': 14})\n"
   ]
  },
  {
   "cell_type": "code",
   "execution_count": 2,
   "outputs": [
    {
     "name": "stdout",
     "output_type": "stream",
     "text": [
      "loaded mp_oxidation_pairs.pkl in: 0.3588 s\n",
      "loaded mp_oxidation_records.pkl in: 0.3410 s\n"
     ]
    }
   ],
   "source": [
    "# load data precalculated by `calculate.py`\n",
    "def load():\n",
    "    # preloaded pairs\n",
    "    # a `pair` is a tuple of (reactant, product list), each pair corresponds to a reaction\n",
    "    mp_oxidation_pairs = pkl_load(\"data/mp_oxidation_pairs.pkl\")\n",
    "\n",
    "    # precomputed enthalpies and x_i using different methods, each record corresponds to a pair (they have the same list index)\n",
    "    mp_oxidation_records = pkl_load(\"data/mp_oxidation_records.pkl\")\n",
    "\n",
    "    # look up table for volume and cell\n",
    "    mpid_to_vol_nsites = dict()\n",
    "    for d in json_load(\"data/mp.json.gz\"):\n",
    "        mpid = d[\"task_id\"]\n",
    "        v = d[\"volume\"]\n",
    "        nsites = d[\"nsites\"]\n",
    "        mpid_to_vol_nsites[mpid] = (v, nsites)\n",
    "\n",
    "    mpid_to_oxidation_pair = {p[0].mpid : p for p in mp_oxidation_pairs}\n",
    "\n",
    "    return mp_oxidation_records, mpid_to_oxidation_pair, mp_oxidation_pairs\n",
    "\n",
    "mp_oxidation_records, mpid_to_oxidation_pair, mp_oxidation_pairs= load()"
   ],
   "metadata": {
    "collapsed": false,
    "pycharm": {
     "name": "#%%\n"
    }
   }
  },
  {
   "cell_type": "code",
   "execution_count": 3,
   "outputs": [
    {
     "name": "stdout",
     "output_type": "stream",
     "text": [
      "Dry lines greedy vs lp: 76 vs 37\n"
     ]
    }
   ],
   "source": [
    "# Section 1:\n",
    "# compare greedy vs LP code\n",
    "def count_dry_source_code(s:str):\n",
    "    dry_lines = 0\n",
    "    for line in s.split(\"\\n\"):\n",
    "        if line.strip().startswith(\"#\"):\n",
    "            continue\n",
    "        elif len(line.strip()) == 0:\n",
    "            continue\n",
    "        else:\n",
    "            dry_lines += 1\n",
    "    return dry_lines\n",
    "\n",
    "def count_implementation(func_list):\n",
    "    return sum(count_dry_source_code(inspect.getsource(f)) for f in func_list)\n",
    "\n",
    "def compare_implementation_counts():\n",
    "    greedy = count_implementation([find_greedy, find_greedy_first_choices, calculate_ranking_parameter])\n",
    "    lp = count_implementation([find_lp])\n",
    "    print(\"Dry lines greedy vs lp: {} vs {}\".format(greedy, lp))\n",
    "\n",
    "compare_implementation_counts()"
   ],
   "metadata": {
    "collapsed": false,
    "pycharm": {
     "name": "#%%\n"
    }
   }
  },
  {
   "cell_type": "code",
   "execution_count": 4,
   "outputs": [
    {
     "name": "stdout",
     "output_type": "stream",
     "text": [
      "Greedy: max diff = -1.4801 eV/atom, mean diff = -0.2089\n",
      "mean diff including zeros = -0.1186\n",
      "qualitative diff = 22504 same as quantitative diff?: True\n"
     ]
    },
    {
     "data": {
      "text/plain": "<Figure size 600x400 with 1 Axes>",
      "image/png": "[encoded data removed]"
     },
     "metadata": {},
     "output_type": "display_data"
    }
   ],
   "source": [
    "# Section 2:\n",
    "# Fig. 1 nonzero diff between LP and greedy (Lazy-F3) for oxidation reactions\n",
    "# note there are different implementations of the greedy algorithm described in\n",
    "# the original paper by [Twyman et al.](Chem. Mater. 2022, 34, 2545-2552),\n",
    "# we use the `Lazy-F3` here which is the one found in the source code provided by Twyman et al.\n",
    "# for results from other implementations, see the `ChemRxiv` branch of this repository\n",
    "def set_small_to_zeros(a: list[float], eps=1e-5):\n",
    "    \"\"\"supress small values in a list of float\"\"\"\n",
    "    a = np.array(a)\n",
    "    a[np.abs(a) < eps] = 0\n",
    "    return a\n",
    "\n",
    "def is_qualitative_diff(sol1, sol2):\n",
    "    \"\"\"test if nonzero values have different indices from two solutions\"\"\"\n",
    "    sol_lazy = set_small_to_zeros(sol1).astype(bool)\n",
    "    sol_exact = set_small_to_zeros(sol2).astype(bool)\n",
    "    for i in range(len(sol_lazy)):\n",
    "        if sol_lazy[i] != sol_exact[i]:\n",
    "            return True\n",
    "    return False\n",
    "\n",
    "def plot_greedy_vs_exact_hist(records, eps=1e-5, reaction_type=\"ox\"):\n",
    "    nonzero_diff_lazy = []\n",
    "    lazy_wrong = []\n",
    "    lazy_wrong_quali = []\n",
    "    for i, record in enumerate(records):\n",
    "        dh_lazy = record[\"dh_lazy_f3\"]\n",
    "        dh_lp = record[\"dh_lp\"]\n",
    "        diff_lazy = dh_lp - dh_lazy\n",
    "        sol_lazy = record[\"sol_lazy_f3\"]\n",
    "        sol_lp = record[\"sol_lp\"]\n",
    "\n",
    "        # exact should never be worse\n",
    "        assert diff_lazy < eps\n",
    "\n",
    "        if is_qualitative_diff(sol_lp, sol_lazy):\n",
    "            lazy_wrong_quali.append(i)\n",
    "\n",
    "        if abs(diff_lazy) > eps:\n",
    "            lazy_wrong.append(i)\n",
    "            nonzero_diff_lazy.append(diff_lazy)\n",
    "\n",
    "    fig, ax = plt.subplots(figsize=(6, 4))\n",
    "    palette = iter(sns.color_palette(n_colors=6))\n",
    "    name, data, ax, quali, quanti = 'Greedy', nonzero_diff_lazy, ax, lazy_wrong_quali, lazy_wrong\n",
    "    ax.hist(data, linewidth=0.05, bins=50, facecolor=next(palette))\n",
    "    ax.set_yscale(\"log\")\n",
    "    ax.set_title(\"{} of {} reactions\".format(len(data), len(records)))\n",
    "    ax.set_xlabel(r\"$\\Delta H^{{LP}}_{{{}}} - \\Delta H^{{{}}}_{{{}}}$ (eV/atom)\".format(reaction_type, name, reaction_type))\n",
    "    ax.set_ylabel(\"Count\", fontsize=12)\n",
    "    fig.tight_layout()\n",
    "\n",
    "    # print info\n",
    "    print(\"{}: max diff = {:.4f} eV/atom, mean diff = {:.4f}\".format(name, min(data), np.mean(data)))\n",
    "    print(\"mean diff including zeros = {:.4f}\".format(sum(data)/len(records)))\n",
    "    print(\"qualitative diff = {}\".format(len(quali)), \"same as quantitative diff?: {}\".format(set(quali) == set(quanti)))\n",
    "    return fig, lazy_wrong\n",
    "\n",
    "\n",
    "fig, lazy_wrong = plot_greedy_vs_exact_hist(mp_oxidation_records, reaction_type=\"ox\")\n",
    "figname = \"fig1\"\n",
    "fig.savefig(\"float/{}.eps\".format(figname), bbox_inches=\"tight\")\n",
    "fig.savefig(\"float/{}.tiff\".format(figname), bbox_inches=\"tight\", dpi=600, pil_kwargs={\"compression\": \"tiff_lzw\"})"
   ],
   "metadata": {
    "collapsed": false,
    "pycharm": {
     "name": "#%%\n"
    }
   }
  },
  {
   "cell_type": "code",
   "execution_count": 5,
   "outputs": [
    {
     "name": "stdout",
     "output_type": "stream",
     "text": [
      "******************High to low\n",
      "======\n",
      "Reactant: Sr0.500 Se0.250 S0.250\tmp-1218707\n",
      "EXACT solution:\n",
      "\t1.5000 -- Sr0.167 S0.167 O0.667 -- -2.80 -- mp-5285\n",
      "\t1.5000 -- Sr0.167 Se0.167 O0.667 -- -2.16 -- mp-4092\n",
      "\tformation enthalpy sum of products: -7.448088\n",
      "lazy_f3 GREEDY solution:\n",
      "\t1.0000 -- S0.250 O0.750 -- -1.75 -- mp-2414\n",
      "\t0.8750 -- Se0.286 O0.714 -- -1.03 -- mp-27358\n",
      "\t1.5000 -- Sr0.333 O0.667 -- -2.21 -- mp-2697\n",
      "\tformation enthalpy sum of products: -5.967983\n",
      "======\n",
      "Reactant: Sr0.500 Se0.375 S0.125\tmp-1218389\n",
      "EXACT solution:\n",
      "\t0.7500 -- Sr0.167 S0.167 O0.667 -- -2.80 -- mp-5285\n",
      "\t2.2500 -- Sr0.167 Se0.167 O0.667 -- -2.16 -- mp-4092\n",
      "\tformation enthalpy sum of products: -6.966090\n",
      "lazy_f3 GREEDY solution:\n",
      "\t0.5000 -- S0.250 O0.750 -- -1.75 -- mp-2414\n",
      "\t1.3125 -- Se0.286 O0.714 -- -1.03 -- mp-27358\n",
      "\t1.5000 -- Sr0.333 O0.667 -- -2.21 -- mp-2697\n",
      "\tformation enthalpy sum of products: -5.542496\n",
      "======\n",
      "Reactant: Gd0.333 S0.333 F0.333\tmp-3799\n",
      "EXACT solution:\n",
      "\t2.3333 -- Gd0.143 S0.143 O0.571 F0.143 -- -3.07 -- mp-16801\n",
      "\tformation enthalpy sum of products: -7.166496\n",
      "lazy_f3 GREEDY solution:\n",
      "\t1.3333 -- S0.250 O0.750 -- -1.75 -- mp-2414\n",
      "\t0.8333 -- Gd0.400 O0.600 -- -3.90 -- mp-504886\n",
      "\t0.5000 -- O0.333 F0.667 -- -0.52 -- mp-1095223\n",
      "\tformation enthalpy sum of products: -5.854545\n"
     ]
    }
   ],
   "source": [
    "# Section 2:\n",
    "# examples of different Greedy (Lazy-F3) and LP solutions\n",
    "def formula_dict_to_string(d:dict):\n",
    "    return \" \".join([\"{}{:.3f}\".format(k, v) for k, v in d.items()])\n",
    "\n",
    "def format_solution(oxides: list[Compound], solution:np.ndarray) -> str:\n",
    "    s = \"\"\n",
    "    final = 0\n",
    "    for i, oxi in zip(solution, oxides):\n",
    "        if is_close_to_zero(i):\n",
    "            continue\n",
    "        s += \"\\t{:.4f} -- {} -- {:.2f} -- {}\\n\".format(i, formula_dict_to_string(oxi.normalized_formula), oxi.formation_energy_per_atom, oxi.mpid)\n",
    "        final += oxi.formation_energy_per_atom * i\n",
    "    s += \"\\tformation enthalpy sum of products: {:.6f}\".format(final)\n",
    "    return s\n",
    "\n",
    "def print_high_dh_diff(records, pairs, greedy_field_suffix=\"lazy_f3\", k=5, reverse=False):\n",
    "    assert len(records) == len(pairs)\n",
    "    dh_diff_records = []\n",
    "    for i in range(len(records)):\n",
    "        reactant, products = pairs[i]\n",
    "        ddh = records[i][\"dh_lp\"] - records[i][\"dh_{}\".format(greedy_field_suffix)]\n",
    "        if abs(ddh) < 1e-5:\n",
    "            continue\n",
    "        r = {\n",
    "            \"reactant\": reactant,\n",
    "            \"products\": products,\n",
    "            \"sol_greedy\": records[i][\"sol_{}\".format(greedy_field_suffix)],\n",
    "            \"sol_lp\": records[i][\"sol_lp\"],\n",
    "            \"ddh\": ddh,\n",
    "        }\n",
    "        dh_diff_records.append(r)\n",
    "\n",
    "    high_h_diff= sorted(dh_diff_records, key=lambda x:x[\"ddh\"], reverse=reverse)\n",
    "    for r in high_h_diff[:k]:\n",
    "        original = r[\"reactant\"]\n",
    "        oxides = r[\"products\"]\n",
    "        sol_greedy = r[\"sol_greedy\"]\n",
    "        sol_lp = r[\"sol_lp\"]\n",
    "        print(\"=\"*6)\n",
    "        print(\"Reactant: \" + formula_dict_to_string(original.normalized_formula) + \"\\t\" + original.mpid)\n",
    "        print(\"EXACT solution:\")\n",
    "        print(format_solution(oxides, sol_lp))\n",
    "        print(\"{} GREEDY solution:\".format(greedy_field_suffix))\n",
    "        print(format_solution(oxides, sol_greedy))\n",
    "\n",
    "print(\"***\"*6 + \"High to low\")\n",
    "print_high_dh_diff(mp_oxidation_records, mp_oxidation_pairs, \"lazy_f3\", 3, reverse=False)"
   ],
   "metadata": {
    "collapsed": false,
    "pycharm": {
     "name": "#%%\n"
    }
   }
  }
 ],
 "metadata": {
  "kernelspec": {
   "display_name": "Python 3",
   "language": "python",
   "name": "python3"
  },
  "language_info": {
   "codemirror_mode": {
    "name": "ipython",
    "version": 2
   },
   "file_extension": ".py",
   "mimetype": "text/x-python",
   "name": "python",
   "nbconvert_exporter": "python",
   "pygments_lexer": "ipython2",
   "version": "2.7.6"
  }
 },
 "nbformat": 4,
 "nbformat_minor": 0
}