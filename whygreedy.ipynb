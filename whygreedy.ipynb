{
 "cells": [
  {
   "cell_type": "markdown",
   "metadata": {
    "pycharm": {
     "name": "#%% md\n"
    }
   },
   "source": [
    "The **oxidation enthalpy minimization** problem is defined as the following:\n",
    "```\n",
    "Given an oxygen-free compound [original], find the solution X={x_1, x_2, ...} s.t. the free energy change of reaction\n",
    "[original] + y[oxygen] --> x_1[oxide_1] + x_2[oxide_2] + ... is minimized, where\n",
    "1. [oxide_1], [oxide_2], ... are potential oxides;\n",
    "2. y is arbitrary;\n",
    "3. Elemental conversation is observed.\n",
    "```\n",
    "\n",
    "The authors of [Twyman2022](https://pubs.acs.org/doi/10.1021/acs.chemmater.1c02644) proposed a\n",
    " greedy algorithm for this problem.\n",
    "In short, the algorithm calculates `x_i`\n",
    "sequentially based on the list of `[oxide_i]` sorted by a ranking parameter, which is then defined by\n",
    "the contribution of `x_i[oxide_i]` to the reaction enthalpy. A detailed description can be found in page 2548 of the article.\n",
    "\n",
    "In this notebook, we will show that:\n",
    "1. The original implementation of [Twyman2022](https://pubs.acs.org/doi/10.1021/acs.chemmater.1c02644), as found on\n",
    "[zenodo](https://zenodo.org/record/5110202#.YlJgpsjMJyg), is not actually a greedy algorithm.\n",
    "2. The **oxidation enthalpy minimization** problem is a linear optimization problem that can be solved exactly."
   ]
  },
  {
   "cell_type": "markdown",
   "source": [
    "## 1. Real greedy"
   ],
   "metadata": {
    "collapsed": false,
    "pycharm": {
     "name": "#%% md\n"
    }
   }
  },
  {
   "cell_type": "markdown",
   "source": [
    "[Twyman2022](https://pubs.acs.org/doi/10.1021/acs.chemmater.1c02644) proposed a ranking parameter defined as the contribution of `x_i[oxide_i]` to the reaction enthalpy. Here is the function to calculate it."
   ],
   "metadata": {
    "collapsed": false,
    "pycharm": {
     "name": "#%% md\n"
    }
   }
  },
  {
   "cell_type": "code",
   "execution_count": 5,
   "outputs": [],
   "source": [
    "from whygreedy.schema import Compound, is_close_to_zero, np\n",
    "\n",
    "def calculate_ranking_parameter(oxide: Compound, original: Compound) -> float:\n",
    "    \"\"\"\n",
    "    this is the ranking parameter as defined in the paper, a smaller number indicated the oxide is more favored,\n",
    "    the one with the smallest ranking parameter will be used to \"consume\" the original compound\n",
    "    \"\"\"\n",
    "    # If the oxide has an element with > 0 composition, and this element is not present or is of 0 composition in the\n",
    "    # original compound, then the ranking parameter is inf because it is impossible to consume the original compound\n",
    "    # with this oxide.\n",
    "    for e in oxide.elements_exclude_oxygen:\n",
    "        oxide_composition = oxide.normalized_formula[e]\n",
    "        original_composition = original.normalized_formula[e]\n",
    "        if not is_close_to_zero(oxide_composition) and is_close_to_zero(original_composition):\n",
    "            return np.inf\n",
    "    p = 0\n",
    "    for element in oxide.elements:\n",
    "        if element == \"O\":\n",
    "            continue\n",
    "        c = oxide.normalized_formula[element] / original.normalized_formula[element]\n",
    "        p += c\n",
    "    rp = oxide.formation_energy_per_atom / p\n",
    "    return rp"
   ],
   "metadata": {
    "collapsed": false,
    "pycharm": {
     "name": "#%%\n"
    }
   }
  },
  {
   "cell_type": "markdown",
   "source": [
    "Now we can implement the greedy algorithm. We will use an argument `real_greedy` to show why the implementation found on\n",
    "[zenodo](https://zenodo.org/record/5110202#.YlJgpsjMJyg) is not a real greedy algorithm."
   ],
   "metadata": {
    "collapsed": false,
    "pycharm": {
     "name": "#%% md\n"
    }
   }
  },
  {
   "cell_type": "code",
   "execution_count": 6,
   "outputs": [],
   "source": [
    "from whygreedy.schema import Compound, Tuple, compound_subtract\n",
    "from copy import deepcopy\n",
    "\n",
    "def find_greedy(\n",
    "        oxides: list[Compound], original: Compound, first_choice: int = 0, real_greedy=True\n",
    ") -> Tuple[list[float], float]:\n",
    "    # placeholder for the solution\n",
    "    solution = []\n",
    "    final_enthalpy = 0.0\n",
    "\n",
    "    # assign an index for oxides\n",
    "    for ioxi, oxi in enumerate(oxides):\n",
    "        oxi.properties[\"index\"] = ioxi\n",
    "\n",
    "    # we will be updating the original compound, better make a deep copy\n",
    "    updated_original = deepcopy(original)\n",
    "    sorted_oxides = oxides  # no need for deep copy\n",
    "\n",
    "    # init the loop and perform the first greedy ranking\n",
    "    counter = 0\n",
    "    sorted_oxides = sorted(sorted_oxides, key=lambda x: calculate_ranking_parameter(x, updated_original))\n",
    "\n",
    "    while len(solution) < len(oxides):\n",
    "        if real_greedy:\n",
    "            # greedy means to find the best in each iteration\n",
    "            # the implementation found on [zenodo](https://zenodo.org/record/5110202#.YlJgpsjMJyg) does not sort the\n",
    "            # oxide list at every iteration (only at initialization), so it is not a greedy algorithm\n",
    "            # this becomes even more problematic considering they used different `first_choice`\n",
    "            sorted_oxides = sorted(sorted_oxides, key=lambda x: calculate_ranking_parameter(x, updated_original))\n",
    "        # we can force the first choice to be something else, but always choose the best starting the 2nd iteration\n",
    "        if counter == 0:\n",
    "            favored_oxide = sorted_oxides[first_choice]\n",
    "            index_to_pop = first_choice\n",
    "        else:\n",
    "            favored_oxide = sorted_oxides[0]\n",
    "            index_to_pop = 0\n",
    "        # once the favored oxide is identified, we can calculate the ratio, and subtract it from the original compound\n",
    "        ratio, updated_original = compound_subtract(favored_oxide, updated_original)\n",
    "        # remove the favored oxide from ranking\n",
    "        sorted_oxides.pop(index_to_pop)\n",
    "        # update solution\n",
    "        solution.append((favored_oxide.properties[\"index\"], ratio))\n",
    "        final_enthalpy += ratio * favored_oxide.formation_energy_per_atom\n",
    "        # update counter before next iteration\n",
    "        counter += 1\n",
    "    solution = sorted(solution, key=lambda x: x[0])\n",
    "    assert len(solution) == len(oxides)\n",
    "    return [s[1] for s in solution], final_enthalpy - original.formation_energy_per_atom"
   ],
   "metadata": {
    "collapsed": false,
    "pycharm": {
     "name": "#%%\n"
    }
   }
  },
  {
   "cell_type": "markdown",
   "source": [
    "Perform tests to make sure our `real_greedy=False` implementation is identical to what we found on [zenodo](https://zenodo.org/record/5110202#.YlJgpsjMJyg)."
   ],
   "metadata": {
    "collapsed": false,
    "pycharm": {
     "name": "#%% md\n"
    }
   }
  },
  {
   "cell_type": "code",
   "execution_count": 7,
   "outputs": [],
   "source": [
    "from whygreedy.Twyman2022ChemMat import find_comp\n",
    "\n",
    "def find_greedy_old(oxides: list[Compound], original: Compound, first_choice: int = 0) -> Tuple[\n",
    "    list[float], float]:\n",
    "    \"\"\"\n",
    "    This is just a wrapper for the implementation from 10.1021/acs.chemmater.1c02644\n",
    "    It is identical to `find_greedy` with `real_greedy` set to False\n",
    "    \"\"\"\n",
    "    stable_oxides = []\n",
    "    for ioxide, oxide in enumerate(oxides):\n",
    "        stable_oxide = {\n",
    "            \"nsites\": 1,\n",
    "            # have to make a copy as `find_comp` changes it\n",
    "            \"unit_cell_formula\": {k: v for k, v in oxide.normalized_formula.items()},\n",
    "            \"formation_energy_per_atom\": oxide.formation_energy_per_atom,\n",
    "            \"index\": ioxide,\n",
    "            \"elements\": oxide.elements,\n",
    "        }\n",
    "        stable_oxides.append(stable_oxide)\n",
    "    compound_unit_cell = original.normalized_formula\n",
    "\n",
    "    solution_oxides, final_enthalpy, delta_enthalpy, _, _, _ = find_comp(stable_oxides, compound_unit_cell,\n",
    "                                                                         original.formation_energy_per_atom, \"Oxide\",\n",
    "                                                                         first_choice)\n",
    "    solution = np.zeros(len(oxides))\n",
    "    for oxide in solution_oxides:\n",
    "        solution[oxide[\"index\"]] = oxide[\"ratio\"]\n",
    "    return solution.tolist(), delta_enthalpy"
   ],
   "metadata": {
    "collapsed": false,
    "pycharm": {
     "name": "#%%\n"
    }
   }
  },
  {
   "cell_type": "code",
   "execution_count": 26,
   "outputs": [
    {
     "name": "stdout",
     "output_type": "stream",
     "text": [
      "seed[0-1000]\told_implementation\treal_greedy=False\treal_greedy=True\n",
      "20\t-5808.957\t-5808.957\t-5874.024\n",
      "447\t-2069.512\t-2069.512\t-2080.216\n",
      "553\t-3611.081\t-3611.081\t-3599.704\n",
      "555\t-3155.043\t-3155.043\t-3324.340\n",
      "914\t-2097.586\t-2097.586\t-2212.100\n",
      "915\t-2156.731\t-2156.731\t-2090.781\n"
     ]
    }
   ],
   "source": [
    "from itertools import combinations\n",
    "from whygreedy import check_solution, gen_random_data  # this checks elemental conservation\n",
    "\n",
    "# define chemical systems\n",
    "elements = [\"A\", \"B\", \"C\", \"D\"]\n",
    "element_combinations = []\n",
    "for i in range(1, len(elements)+1):\n",
    "    element_combinations += list(combinations(elements, i))\n",
    "\n",
    "# generate original-oxides pairs to show\n",
    "# 1. `find_greedy_old` is identical to `find_greedy` with `real_greedy=False`\n",
    "# 2. `find_greedy_old` can return results different from `find_greedy` with `real_greedy=True`\n",
    "seed_max = 1000\n",
    "print(\"\\t\".join([\"seed[0-{}]\".format(seed_max), \"old_implementation\", \"real_greedy=False\", \"real_greedy=True\"]))\n",
    "for seed in range(seed_max):\n",
    "    original, oxides = gen_random_data([\"A\", \"B\", \"C\", \"D\"], 5, seed)\n",
    "    dh_old_min = np.inf\n",
    "    dh_real_min = np.inf\n",
    "    dh_new_min = np.inf\n",
    "    for i in range(len(oxides)):\n",
    "        sol_old, dh_old = find_greedy_old(oxides, original, first_choice=0)\n",
    "        sol_new, dh_new = find_greedy(oxides, original, first_choice=0, real_greedy=False)\n",
    "        sol_real, dh_real = find_greedy(oxides, original, first_choice=0, real_greedy=True)\n",
    "\n",
    "        assert check_solution(sol_new, oxides, original)\n",
    "        assert check_solution(sol_old, oxides, original)\n",
    "        assert check_solution(sol_real, oxides, original)\n",
    "\n",
    "        # confirm we reproduce the old implementation\n",
    "        assert is_close_to_zero(dh_new - dh_old) and np.allclose(sol_new, sol_old)\n",
    "\n",
    "        if dh_old < dh_old_min:\n",
    "            dh_old_min = dh_old\n",
    "        if dh_new < dh_new_min:\n",
    "            dh_new_min = dh_new\n",
    "        if dh_real < dh_real_min:\n",
    "            dh_real_min = dh_real\n",
    "\n",
    "    if not is_close_to_zero(dh_new_min - dh_real_min):\n",
    "        print(\"{}\\t{:.3f}\\t{:.3f}\\t{:.3f}\".format(seed, dh_old_min, dh_new_min, dh_real_min))"
   ],
   "metadata": {
    "collapsed": false,
    "pycharm": {
     "name": "#%%\n"
    }
   }
  },
  {
   "cell_type": "markdown",
   "source": [
    "While sometimes the \"not really greedy\" implementation returns the same results as those from \"real greedy\",\n",
    "in some cases the difference between them can be large, and not always positive/negative.\n",
    "One should keep in mind they are all approximate solutions."
   ],
   "metadata": {
    "collapsed": false,
    "pycharm": {
     "name": "#%% md\n"
    }
   }
  },
  {
   "cell_type": "markdown",
   "source": [
    "## 2. Why greedy, when you can be exact?"
   ],
   "metadata": {
    "collapsed": false,
    "pycharm": {
     "name": "#%% md\n"
    }
   }
  },
  {
   "cell_type": "markdown",
   "source": [
    "Recall our definition of the **oxidation enthalpy minimization** problem.\n",
    "This is actually a linear optimization problem.\n",
    "The objective function is the sum `\\Sum_i H^f_i * x_i`, `x_i` are all non-negative,\n",
    "and the feasible region of `X` is constrained by elemental conservation."
   ],
   "metadata": {
    "collapsed": false,
    "pycharm": {
     "name": "#%% md\n"
    }
   }
  },
  {
   "cell_type": "code",
   "execution_count": 27,
   "outputs": [],
   "source": [
    "import gurobipy as gp\n",
    "import numpy as np\n",
    "from gurobipy import GRB\n",
    "\n",
    "def find_lp(oxides: list[Compound], original: Compound) -> Tuple[list[float], float]:\n",
    "    # init gurobi model, suppress output\n",
    "    with gp.Env(empty=True) as env:\n",
    "        env.setParam('OutputFlag', 0)\n",
    "        env.setParam('LogToConsole', 0)\n",
    "        env.start()\n",
    "        with gp.Model(env=env) as m:\n",
    "\n",
    "            # add variables\n",
    "            x = []\n",
    "            for ioxi, oxi in enumerate(oxides):\n",
    "                x_i = m.addVar(name=str(ioxi))\n",
    "                x.append(x_i)\n",
    "\n",
    "            # add constraints\n",
    "            c = []\n",
    "            for e in original.elements:\n",
    "                element_sum = 0\n",
    "                for i, x_i in enumerate(x):\n",
    "                    try:\n",
    "                        composition = oxides[i].normalized_formula[e]\n",
    "                    except KeyError:\n",
    "                        composition = 0\n",
    "                    element_sum += composition * x_i\n",
    "                c_e = m.addConstr(element_sum <= original.normalized_formula[e], name=e)\n",
    "                c.append(c_e)\n",
    "\n",
    "            # objective function\n",
    "            objective = 0\n",
    "            for x_i, oxi in zip(x, oxides):\n",
    "                objective += x_i * oxi.formation_energy_per_atom\n",
    "\n",
    "            m.setObjective(objective, GRB.MINIMIZE)\n",
    "            m.optimize()\n",
    "            return [v.x for v in m.getVars()], m.objVal - original.formation_energy_per_atom"
   ],
   "metadata": {
    "collapsed": false,
    "pycharm": {
     "name": "#%%\n"
    }
   }
  },
  {
   "cell_type": "markdown",
   "source": [
    "Now let's compare linear optimization with the greedy method, start with random compounds. We confirm that the linear programming method is always equivalent to or better than greedy algorithms."
   ],
   "metadata": {
    "collapsed": false,
    "pycharm": {
     "name": "#%% md\n"
    }
   }
  },
  {
   "cell_type": "code",
   "execution_count": 28,
   "outputs": [
    {
     "name": "stdout",
     "output_type": "stream",
     "text": [
      "# of greedy 5% worse than exact: 116\n"
     ]
    }
   ],
   "source": [
    "n = 1000\n",
    "n_five_percent_worse = 0\n",
    "for seed in range(n):\n",
    "    original, oxides = gen_random_data([\"A\", \"B\", \"C\", \"D\"], 5, seed)\n",
    "\n",
    "    sol_old, dh_old = find_greedy_old(oxides, original, first_choice=0)\n",
    "    sol_real, dh_real = find_greedy(oxides, original, first_choice=0, real_greedy=True)\n",
    "    sol_exact, dh_exact = find_lp(oxides, original)\n",
    "\n",
    "    assert check_solution(sol_old, oxides, original)\n",
    "    assert check_solution(sol_real, oxides, original)\n",
    "    assert check_solution(sol_exact, oxides, original)\n",
    "\n",
    "    assert dh_exact <= 0\n",
    "    # greedy solution should be no better than the exact\n",
    "    assert dh_exact <= min([dh_real, dh_old]) + 1e-5\n",
    "\n",
    "    if dh_exact < min([dh_real, dh_old]) * 1.05:\n",
    "        n_five_percent_worse += 1\n",
    "print(\"# of greedy 5% worse than exact: {}\".format(n_five_percent_worse))"
   ],
   "metadata": {
    "collapsed": false,
    "pycharm": {
     "name": "#%%\n"
    }
   }
  },
  {
   "cell_type": "markdown",
   "source": [
    "Since the old implementation requires loop over all possible `first_choice`, it is significantly slower than the linear programming method, and gets worse when the # of oxides is large."
   ],
   "metadata": {
    "collapsed": false,
    "pycharm": {
     "name": "#%% md\n"
    }
   }
  },
  {
   "cell_type": "code",
   "execution_count": 25,
   "outputs": [
    {
     "name": "stdout",
     "output_type": "stream",
     "text": [
      "75\n",
      "1.32 ms ± 22.5 µs per loop (mean ± std. dev. of 7 runs, 1,000 loops each)\n",
      "263 µs ± 1.39 µs per loop (mean ± std. dev. of 7 runs, 1,000 loops each)\n",
      "20 ms ± 219 µs per loop (mean ± std. dev. of 7 runs, 100 loops each)\n"
     ]
    }
   ],
   "source": [
    "original, oxides = gen_random_data([\"A\", \"B\", \"C\", \"D\"], 5, 42)\n",
    "print(len(oxides))\n",
    "%timeit find_lp(oxides, original)\n",
    "%timeit find_greedy_old(oxides, original, first_choice=0)\n",
    "%timeit for i in range(len(oxides)) : find_greedy_old(oxides, original, first_choice=i)"
   ],
   "metadata": {
    "collapsed": false,
    "pycharm": {
     "name": "#%%\n"
    }
   }
  },
  {
   "cell_type": "code",
   "execution_count": 2,
   "outputs": [
    {
     "name": "stderr",
     "output_type": "stream",
     "text": [
      "100%|██████████| 9238/9238 [00:16<00:00, 556.71it/s]\n"
     ]
    }
   ],
   "source": [
    "from whygreedy.mp import load_mp_pairs, compare_greedy_exact, hist_compare\n",
    "pairs = load_mp_pairs()\n",
    "dh_diff, quali_diff, _, _ = compare_greedy_exact(pairs, greedy_type=\"old\")\n"
   ],
   "metadata": {
    "collapsed": false,
    "pycharm": {
     "name": "#%%\n"
    }
   }
  },
  {
   "cell_type": "code",
   "execution_count": 3,
   "outputs": [
    {
     "data": {
      "text/plain": "<Figure size 432x288 with 1 Axes>",
      "image/png": "[encoded data removed]"
     },
     "metadata": {
      "needs_background": "light"
     },
     "output_type": "display_data"
    }
   ],
   "source": [
    "fig = hist_compare(dh_diff, quali_diff, 0)"
   ],
   "metadata": {
    "collapsed": false,
    "pycharm": {
     "name": "#%%\n"
    }
   }
  },
  {
   "cell_type": "code",
   "execution_count": 5,
   "outputs": [
    {
     "data": {
      "text/plain": "<Figure size 432x288 with 1 Axes>",
      "image/png": "[encoded data removed]"
     },
     "metadata": {
      "needs_background": "light"
     },
     "output_type": "display_data"
    }
   ],
   "source": [
    "fig.clf()\n",
    "fig = hist_compare(dh_diff, quali_diff, 1e-5)"
   ],
   "metadata": {
    "collapsed": false,
    "pycharm": {
     "name": "#%%\n"
    }
   }
  }
 ],
 "metadata": {
  "kernelspec": {
   "display_name": "Python 3 (ipykernel)",
   "language": "python",
   "name": "python3"
  },
  "language_info": {
   "codemirror_mode": {
    "name": "ipython",
    "version": 3
   },
   "file_extension": ".py",
   "mimetype": "text/x-python",
   "name": "python",
   "nbconvert_exporter": "python",
   "pygments_lexer": "ipython3",
   "version": "3.10.4"
  }
 },
 "nbformat": 4,
 "nbformat_minor": 1
}